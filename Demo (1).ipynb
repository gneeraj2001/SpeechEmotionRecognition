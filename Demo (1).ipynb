{
  "nbformat": 4,
  "nbformat_minor": 0,
  "metadata": {
    "colab": {
      "provenance": [],
      "collapsed_sections": []
    },
    "kernelspec": {
      "name": "python3",
      "display_name": "Python 3"
    },
    "language_info": {
      "name": "python"
    }
  },
  "cells": [
    {
      "cell_type": "markdown",
      "source": [
        "![pipeline.PNG](data:image/png;base64,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)"
      ],
      "metadata": {
        "id": "3Ri_IhI2NXcD"
      }
    },
    {
      "cell_type": "code",
      "execution_count": null,
      "metadata": {
        "id": "4NqkmYgt-uKI"
      },
      "outputs": [],
      "source": [
        "import numpy as np\n",
        "import pandas as pd\n",
        "import matplotlib.pyplot as plt\n",
        "import tensorflow as tf\n",
        "import keras\n",
        "import librosa"
      ]
    },
    {
      "cell_type": "markdown",
      "source": [
        "Sample audio data"
      ],
      "metadata": {
        "id": "j6UqTjEXfsE5"
      }
    },
    {
      "cell_type": "code",
      "source": [
        "#few audio samples\n",
        "  \n",
        "data = ['/content/03-01-05-02-01-01-22.wav']\n",
        "df = pd.DataFrame(data, columns=['Path'])\n",
        "  \n",
        "# print dataframe.\n",
        "df"
      ],
      "metadata": {
        "colab": {
          "base_uri": "https://localhost:8080/",
          "height": 81
        },
        "id": "fnWmy_VE-z4e",
        "outputId": "903d5427-49db-4bb6-e9f7-c506ea5d01f0"
      },
      "execution_count": null,
      "outputs": [
        {
          "output_type": "execute_result",
          "data": {
            "text/plain": [
              "                                Path\n",
              "0  /content/03-01-05-02-01-01-22.wav"
            ],
            "text/html": [
              "\n",
              "  <div id=\"df-9a99edfa-9c56-4437-9654-ee828afbb6a4\">\n",
              "    <div class=\"colab-df-container\">\n",
              "      <div>\n",
              "<style scoped>\n",
              "    .dataframe tbody tr th:only-of-type {\n",
              "        vertical-align: middle;\n",
              "    }\n",
              "\n",
              "    .dataframe tbody tr th {\n",
              "        vertical-align: top;\n",
              "    }\n",
              "\n",
              "    .dataframe thead th {\n",
              "        text-align: right;\n",
              "    }\n",
              "</style>\n",
              "<table border=\"1\" class=\"dataframe\">\n",
              "  <thead>\n",
              "    <tr style=\"text-align: right;\">\n",
              "      <th></th>\n",
              "      <th>Path</th>\n",
              "    </tr>\n",
              "  </thead>\n",
              "  <tbody>\n",
              "    <tr>\n",
              "      <th>0</th>\n",
              "      <td>/content/03-01-05-02-01-01-22.wav</td>\n",
              "    </tr>\n",
              "  </tbody>\n",
              "</table>\n",
              "</div>\n",
              "      <button class=\"colab-df-convert\" onclick=\"convertToInteractive('df-9a99edfa-9c56-4437-9654-ee828afbb6a4')\"\n",
              "              title=\"Convert this dataframe to an interactive table.\"\n",
              "              style=\"display:none;\">\n",
              "        \n",
              "  <svg xmlns=\"http://www.w3.org/2000/svg\" height=\"24px\"viewBox=\"0 0 24 24\"\n",
              "       width=\"24px\">\n",
              "    <path d=\"M0 0h24v24H0V0z\" fill=\"none\"/>\n",
              "    <path d=\"M18.56 5.44l.94 2.06.94-2.06 2.06-.94-2.06-.94-.94-2.06-.94 2.06-2.06.94zm-11 1L8.5 8.5l.94-2.06 2.06-.94-2.06-.94L8.5 2.5l-.94 2.06-2.06.94zm10 10l.94 2.06.94-2.06 2.06-.94-2.06-.94-.94-2.06-.94 2.06-2.06.94z\"/><path d=\"M17.41 7.96l-1.37-1.37c-.4-.4-.92-.59-1.43-.59-.52 0-1.04.2-1.43.59L10.3 9.45l-7.72 7.72c-.78.78-.78 2.05 0 2.83L4 21.41c.39.39.9.59 1.41.59.51 0 1.02-.2 1.41-.59l7.78-7.78 2.81-2.81c.8-.78.8-2.07 0-2.86zM5.41 20L4 18.59l7.72-7.72 1.47 1.35L5.41 20z\"/>\n",
              "  </svg>\n",
              "      </button>\n",
              "      \n",
              "  <style>\n",
              "    .colab-df-container {\n",
              "      display:flex;\n",
              "      flex-wrap:wrap;\n",
              "      gap: 12px;\n",
              "    }\n",
              "\n",
              "    .colab-df-convert {\n",
              "      background-color: #E8F0FE;\n",
              "      border: none;\n",
              "      border-radius: 50%;\n",
              "      cursor: pointer;\n",
              "      display: none;\n",
              "      fill: #1967D2;\n",
              "      height: 32px;\n",
              "      padding: 0 0 0 0;\n",
              "      width: 32px;\n",
              "    }\n",
              "\n",
              "    .colab-df-convert:hover {\n",
              "      background-color: #E2EBFA;\n",
              "      box-shadow: 0px 1px 2px rgba(60, 64, 67, 0.3), 0px 1px 3px 1px rgba(60, 64, 67, 0.15);\n",
              "      fill: #174EA6;\n",
              "    }\n",
              "\n",
              "    [theme=dark] .colab-df-convert {\n",
              "      background-color: #3B4455;\n",
              "      fill: #D2E3FC;\n",
              "    }\n",
              "\n",
              "    [theme=dark] .colab-df-convert:hover {\n",
              "      background-color: #434B5C;\n",
              "      box-shadow: 0px 1px 3px 1px rgba(0, 0, 0, 0.15);\n",
              "      filter: drop-shadow(0px 1px 2px rgba(0, 0, 0, 0.3));\n",
              "      fill: #FFFFFF;\n",
              "    }\n",
              "  </style>\n",
              "\n",
              "      <script>\n",
              "        const buttonEl =\n",
              "          document.querySelector('#df-9a99edfa-9c56-4437-9654-ee828afbb6a4 button.colab-df-convert');\n",
              "        buttonEl.style.display =\n",
              "          google.colab.kernel.accessAllowed ? 'block' : 'none';\n",
              "\n",
              "        async function convertToInteractive(key) {\n",
              "          const element = document.querySelector('#df-9a99edfa-9c56-4437-9654-ee828afbb6a4');\n",
              "          const dataTable =\n",
              "            await google.colab.kernel.invokeFunction('convertToInteractive',\n",
              "                                                     [key], {});\n",
              "          if (!dataTable) return;\n",
              "\n",
              "          const docLinkHtml = 'Like what you see? Visit the ' +\n",
              "            '<a target=\"_blank\" href=https://colab.research.google.com/notebooks/data_table.ipynb>data table notebook</a>'\n",
              "            + ' to learn more about interactive tables.';\n",
              "          element.innerHTML = '';\n",
              "          dataTable['output_type'] = 'display_data';\n",
              "          await google.colab.output.renderOutput(dataTable, element);\n",
              "          const docLink = document.createElement('div');\n",
              "          docLink.innerHTML = docLinkHtml;\n",
              "          element.appendChild(docLink);\n",
              "        }\n",
              "      </script>\n",
              "    </div>\n",
              "  </div>\n",
              "  "
            ]
          },
          "metadata": {},
          "execution_count": 2
        }
      ]
    },
    {
      "cell_type": "markdown",
      "source": [
        "Feature Extraction"
      ],
      "metadata": {
        "id": "qKUsAFjRfvCD"
      }
    },
    {
      "cell_type": "code",
      "source": [
        "def mfcc_feature(data,sampling_rate):\n",
        "    return np.mean(librosa.feature.mfcc(y=data,n_mfcc=40,sr=sampling_rate).T,axis=0)\n",
        "\n",
        "def mel_spectrogram_feature(data,sampling_rate):\n",
        "    return np.mean(librosa.feature.melspectrogram(y=data, sr=sampling_rate).T, axis=0)\n",
        "\n",
        "def chroma(stft,sampling_rate):\n",
        "    return np.mean(librosa.feature.chroma_stft(S=stft, sr=sampling_rate).T,axis=0)\n",
        "    \n",
        "def tonnetz(data,sampling_rate):\n",
        "    return np.mean(librosa.feature.tonnetz(y=librosa.effects.harmonic(data),sr=sampling_rate).T,axis=0)\n",
        "\n"
      ],
      "metadata": {
        "id": "XgJLOF-3Lmh8"
      },
      "execution_count": null,
      "outputs": []
    },
    {
      "cell_type": "code",
      "source": [
        "#feature extraction\n",
        "#function to extract the required features from the data\n",
        "\n",
        "def feature_extraction(data,sampling_rate):\n",
        "\n",
        "  features = np.array([])\n",
        "  stft = np.abs(librosa.stft(data))\n",
        "  \n",
        "  #MFCC\n",
        "  mfcc = mfcc_feature(data,sampling_rate)\n",
        "  features = np.hstack((features, mfcc))\n",
        "\n",
        "\n",
        "  # MelSpectogram\n",
        "  mel = mel_spectrogram_feature(data,sampling_rate)\n",
        "  features = np.hstack((features, mel)) # stacking horizontally\n",
        "\n",
        "\n",
        "  #Chroma\n",
        "  chrom = chroma(stft,sampling_rate)\n",
        "  features = np.hstack((features,chrom))\n",
        "\n",
        "  #tonnetz\n",
        "  ton = tonnetz(data,sampling_rate)\n",
        "  features = np.hstack((features,ton))\n",
        "\n",
        "\n",
        "  #Spectral Contrast\n",
        "  contr = np.mean(librosa.feature.spectral_contrast(S=stft, sr=sampling_rate).T,axis=0)\n",
        "  features = np.hstack((features,contr))\n",
        "\n",
        "  return features\n",
        "\n",
        "\n",
        "def get_features(audio):\n",
        "    \n",
        "    # duration and offset are used to take care of the no audio in start and the ending of each audio files \n",
        "    #OFFSET-START OF THE AUDIO AND DURATION-THE END TIME STAMP OF THE AUDIO\n",
        "    data, sampling_rate = librosa.load(audio, duration=2, offset=0.5)\n",
        "    features = feature_extraction(data,sampling_rate)\n",
        "    result = np.array(features)\n",
        "    \n",
        "    return result"
      ],
      "metadata": {
        "id": "dpiz6zvX-1gS"
      },
      "execution_count": null,
      "outputs": []
    },
    {
      "cell_type": "code",
      "source": [
        "X = []\n",
        "for path in df.Path:\n",
        "    feature = get_features(path)\n",
        "    X.append(feature)\n",
        "print(\"Extraction done\")\n",
        "features_extracted = pd.DataFrame(X)"
      ],
      "metadata": {
        "colab": {
          "base_uri": "https://localhost:8080/"
        },
        "id": "R985O_ZyMsuE",
        "outputId": "60add3f7-8791-4ce2-903c-900bac149d0d"
      },
      "execution_count": null,
      "outputs": [
        {
          "output_type": "stream",
          "name": "stdout",
          "text": [
            "Extraction done\n"
          ]
        },
        {
          "output_type": "stream",
          "name": "stderr",
          "text": [
            "/usr/local/lib/python3.7/dist-packages/librosa/core/spectrum.py:224: UserWarning: n_fft=1024 is too small for input signal of length=690\n",
            "  n_fft, y.shape[-1]\n"
          ]
        }
      ]
    },
    {
      "cell_type": "code",
      "source": [
        "features_extracted.head(5)"
      ],
      "metadata": {
        "colab": {
          "base_uri": "https://localhost:8080/",
          "height": 174
        },
        "id": "4yi9DR8H2wIm",
        "outputId": "3a75f14b-f58b-4556-85e0-f5518030ce65"
      },
      "execution_count": null,
      "outputs": [
        {
          "output_type": "execute_result",
          "data": {
            "text/plain": [
              "          0          1          2          3         4          5    \\\n",
              "0 -385.130402  42.614529 -25.439041  13.448085 -6.410502 -20.333401   \n",
              "\n",
              "         6          7          8         9    ...       183       184  \\\n",
              "0 -18.297796 -12.644742 -22.447603 -1.605938  ... -0.020298  0.002002   \n",
              "\n",
              "        185        186        187        188        189        190       191  \\\n",
              "0 -0.020651  18.134804  18.434373  20.645404  19.092533  19.846442  19.14756   \n",
              "\n",
              "         192  \n",
              "0  46.652581  \n",
              "\n",
              "[1 rows x 193 columns]"
            ],
            "text/html": [
              "\n",
              "  <div id=\"df-70acf980-e7c1-4cfb-9a1d-92bccb6b39b8\">\n",
              "    <div class=\"colab-df-container\">\n",
              "      <div>\n",
              "<style scoped>\n",
              "    .dataframe tbody tr th:only-of-type {\n",
              "        vertical-align: middle;\n",
              "    }\n",
              "\n",
              "    .dataframe tbody tr th {\n",
              "        vertical-align: top;\n",
              "    }\n",
              "\n",
              "    .dataframe thead th {\n",
              "        text-align: right;\n",
              "    }\n",
              "</style>\n",
              "<table border=\"1\" class=\"dataframe\">\n",
              "  <thead>\n",
              "    <tr style=\"text-align: right;\">\n",
              "      <th></th>\n",
              "      <th>0</th>\n",
              "      <th>1</th>\n",
              "      <th>2</th>\n",
              "      <th>3</th>\n",
              "      <th>4</th>\n",
              "      <th>5</th>\n",
              "      <th>6</th>\n",
              "      <th>7</th>\n",
              "      <th>8</th>\n",
              "      <th>9</th>\n",
              "      <th>...</th>\n",
              "      <th>183</th>\n",
              "      <th>184</th>\n",
              "      <th>185</th>\n",
              "      <th>186</th>\n",
              "      <th>187</th>\n",
              "      <th>188</th>\n",
              "      <th>189</th>\n",
              "      <th>190</th>\n",
              "      <th>191</th>\n",
              "      <th>192</th>\n",
              "    </tr>\n",
              "  </thead>\n",
              "  <tbody>\n",
              "    <tr>\n",
              "      <th>0</th>\n",
              "      <td>-385.130402</td>\n",
              "      <td>42.614529</td>\n",
              "      <td>-25.439041</td>\n",
              "      <td>13.448085</td>\n",
              "      <td>-6.410502</td>\n",
              "      <td>-20.333401</td>\n",
              "      <td>-18.297796</td>\n",
              "      <td>-12.644742</td>\n",
              "      <td>-22.447603</td>\n",
              "      <td>-1.605938</td>\n",
              "      <td>...</td>\n",
              "      <td>-0.020298</td>\n",
              "      <td>0.002002</td>\n",
              "      <td>-0.020651</td>\n",
              "      <td>18.134804</td>\n",
              "      <td>18.434373</td>\n",
              "      <td>20.645404</td>\n",
              "      <td>19.092533</td>\n",
              "      <td>19.846442</td>\n",
              "      <td>19.14756</td>\n",
              "      <td>46.652581</td>\n",
              "    </tr>\n",
              "  </tbody>\n",
              "</table>\n",
              "<p>1 rows × 193 columns</p>\n",
              "</div>\n",
              "      <button class=\"colab-df-convert\" onclick=\"convertToInteractive('df-70acf980-e7c1-4cfb-9a1d-92bccb6b39b8')\"\n",
              "              title=\"Convert this dataframe to an interactive table.\"\n",
              "              style=\"display:none;\">\n",
              "        \n",
              "  <svg xmlns=\"http://www.w3.org/2000/svg\" height=\"24px\"viewBox=\"0 0 24 24\"\n",
              "       width=\"24px\">\n",
              "    <path d=\"M0 0h24v24H0V0z\" fill=\"none\"/>\n",
              "    <path d=\"M18.56 5.44l.94 2.06.94-2.06 2.06-.94-2.06-.94-.94-2.06-.94 2.06-2.06.94zm-11 1L8.5 8.5l.94-2.06 2.06-.94-2.06-.94L8.5 2.5l-.94 2.06-2.06.94zm10 10l.94 2.06.94-2.06 2.06-.94-2.06-.94-.94-2.06-.94 2.06-2.06.94z\"/><path d=\"M17.41 7.96l-1.37-1.37c-.4-.4-.92-.59-1.43-.59-.52 0-1.04.2-1.43.59L10.3 9.45l-7.72 7.72c-.78.78-.78 2.05 0 2.83L4 21.41c.39.39.9.59 1.41.59.51 0 1.02-.2 1.41-.59l7.78-7.78 2.81-2.81c.8-.78.8-2.07 0-2.86zM5.41 20L4 18.59l7.72-7.72 1.47 1.35L5.41 20z\"/>\n",
              "  </svg>\n",
              "      </button>\n",
              "      \n",
              "  <style>\n",
              "    .colab-df-container {\n",
              "      display:flex;\n",
              "      flex-wrap:wrap;\n",
              "      gap: 12px;\n",
              "    }\n",
              "\n",
              "    .colab-df-convert {\n",
              "      background-color: #E8F0FE;\n",
              "      border: none;\n",
              "      border-radius: 50%;\n",
              "      cursor: pointer;\n",
              "      display: none;\n",
              "      fill: #1967D2;\n",
              "      height: 32px;\n",
              "      padding: 0 0 0 0;\n",
              "      width: 32px;\n",
              "    }\n",
              "\n",
              "    .colab-df-convert:hover {\n",
              "      background-color: #E2EBFA;\n",
              "      box-shadow: 0px 1px 2px rgba(60, 64, 67, 0.3), 0px 1px 3px 1px rgba(60, 64, 67, 0.15);\n",
              "      fill: #174EA6;\n",
              "    }\n",
              "\n",
              "    [theme=dark] .colab-df-convert {\n",
              "      background-color: #3B4455;\n",
              "      fill: #D2E3FC;\n",
              "    }\n",
              "\n",
              "    [theme=dark] .colab-df-convert:hover {\n",
              "      background-color: #434B5C;\n",
              "      box-shadow: 0px 1px 3px 1px rgba(0, 0, 0, 0.15);\n",
              "      filter: drop-shadow(0px 1px 2px rgba(0, 0, 0, 0.3));\n",
              "      fill: #FFFFFF;\n",
              "    }\n",
              "  </style>\n",
              "\n",
              "      <script>\n",
              "        const buttonEl =\n",
              "          document.querySelector('#df-70acf980-e7c1-4cfb-9a1d-92bccb6b39b8 button.colab-df-convert');\n",
              "        buttonEl.style.display =\n",
              "          google.colab.kernel.accessAllowed ? 'block' : 'none';\n",
              "\n",
              "        async function convertToInteractive(key) {\n",
              "          const element = document.querySelector('#df-70acf980-e7c1-4cfb-9a1d-92bccb6b39b8');\n",
              "          const dataTable =\n",
              "            await google.colab.kernel.invokeFunction('convertToInteractive',\n",
              "                                                     [key], {});\n",
              "          if (!dataTable) return;\n",
              "\n",
              "          const docLinkHtml = 'Like what you see? Visit the ' +\n",
              "            '<a target=\"_blank\" href=https://colab.research.google.com/notebooks/data_table.ipynb>data table notebook</a>'\n",
              "            + ' to learn more about interactive tables.';\n",
              "          element.innerHTML = '';\n",
              "          dataTable['output_type'] = 'display_data';\n",
              "          await google.colab.output.renderOutput(dataTable, element);\n",
              "          const docLink = document.createElement('div');\n",
              "          docLink.innerHTML = docLinkHtml;\n",
              "          element.appendChild(docLink);\n",
              "        }\n",
              "      </script>\n",
              "    </div>\n",
              "  </div>\n",
              "  "
            ]
          },
          "metadata": {},
          "execution_count": 6
        }
      ]
    },
    {
      "cell_type": "code",
      "source": [
        "features_extracted = np.expand_dims(features_extracted, axis=2)\n",
        "features_extracted.shape"
      ],
      "metadata": {
        "colab": {
          "base_uri": "https://localhost:8080/"
        },
        "id": "So0UxLPQRE7J",
        "outputId": "46b14abf-4a32-40f6-ed29-499e36b8ed0c"
      },
      "execution_count": null,
      "outputs": [
        {
          "output_type": "execute_result",
          "data": {
            "text/plain": [
              "(1, 193, 1)"
            ]
          },
          "metadata": {},
          "execution_count": 7
        }
      ]
    },
    {
      "cell_type": "markdown",
      "source": [
        "Prediction and Use Case"
      ],
      "metadata": {
        "id": "g0ic2a-Tfz0a"
      }
    },
    {
      "cell_type": "code",
      "source": [
        "#prediction and analysis\n",
        "reconstructed_model = keras.models.load_model(\"/content/drive/MyDrive/SER\")"
      ],
      "metadata": {
        "id": "L4GyVwLs-3Fa"
      },
      "execution_count": null,
      "outputs": []
    },
    {
      "cell_type": "code",
      "source": [
        "def decode(value):\n",
        "  return 'angry' if value==0 else ('happy' if value == 1 else 'neutra' if value == 2  else 'sad')"
      ],
      "metadata": {
        "id": "PPRk6AlAdMzj"
      },
      "execution_count": null,
      "outputs": []
    },
    {
      "cell_type": "code",
      "source": [
        "#function to display top two emotions\n",
        "def use_case_evaluation(prediction):\n",
        "  ind  = (-prediction).argsort()[:2]\n",
        "  pred = ind[:,:2]\n",
        "  decoded_string = [decode(val) for val in pred[0] ]\n",
        "  prob_list = [prediction[0][val] for val in pred[0]]\n",
        "  \n",
        "\n",
        "  dict_pred = dict(zip(decoded_string, prob_list))\n",
        "  return dict_pred , decoded_string\n",
        "# angry = 0,happy=1 ,neutral=2,,sad = 3"
      ],
      "metadata": {
        "id": "wgNLlZf_N6zC"
      },
      "execution_count": null,
      "outputs": []
    },
    {
      "cell_type": "code",
      "source": [
        "predictions = reconstructed_model.predict(features_extracted)"
      ],
      "metadata": {
        "id": "W47xM1IWTwJU"
      },
      "execution_count": null,
      "outputs": []
    },
    {
      "cell_type": "code",
      "source": [
        "print(predictions)"
      ],
      "metadata": {
        "colab": {
          "base_uri": "https://localhost:8080/"
        },
        "id": "EJtxWWCOU3R_",
        "outputId": "b8bf521a-64db-49b7-9ac5-60c0c01041f8"
      },
      "execution_count": null,
      "outputs": [
        {
          "output_type": "stream",
          "name": "stdout",
          "text": [
            "[[9.9993002e-01 7.0004760e-05 7.0116977e-17 4.0119015e-12]]\n"
          ]
        }
      ]
    },
    {
      "cell_type": "code",
      "source": [
        "top2_preds , decoded_string = use_case_evaluation(predictions)\n",
        "print(top2_preds)"
      ],
      "metadata": {
        "colab": {
          "base_uri": "https://localhost:8080/"
        },
        "id": "k45NXcrAXgIF",
        "outputId": "b6e43927-457c-4e52-bd53-5efd46aec308"
      },
      "execution_count": null,
      "outputs": [
        {
          "output_type": "stream",
          "name": "stdout",
          "text": [
            "{'angry': 0.99993, 'happy': 7.000476e-05}\n"
          ]
        }
      ]
    },
    {
      "cell_type": "code",
      "source": [
        "print(decoded_string)"
      ],
      "metadata": {
        "colab": {
          "base_uri": "https://localhost:8080/"
        },
        "id": "iWIwo_95kI3b",
        "outputId": "992aa0bd-7c81-4369-e3c3-db2e7423f4cb"
      },
      "execution_count": null,
      "outputs": [
        {
          "output_type": "stream",
          "name": "stdout",
          "text": [
            "['angry', 'happy']\n"
          ]
        }
      ]
    },
    {
      "cell_type": "markdown",
      "source": [
        "Use Case For Angry"
      ],
      "metadata": {
        "id": "nu03dLFefoHC"
      }
    },
    {
      "cell_type": "code",
      "source": [
        "#Helper Functions\n",
        "\n",
        "def fft_new(signal,sampFreq):\n",
        "    fft_spectrum = np.fft.rfft(signal)\n",
        "    freq = np.fft.rfftfreq(signal.size, d=1./sampFreq)\n",
        "    fft_spectrum_abs = np.abs(fft_spectrum)\n",
        "    plt.plot(freq[750:4000], fft_spectrum_abs[750:4000])\n",
        "    plt.xlabel(\"frequency, Hz\")\n",
        "    plt.ylabel(\"Amplitude, units\")\n",
        "    plt.show()\n",
        "    return freq[750:4000], fft_spectrum_abs[750:4000]\n",
        "\n",
        "threshold = 283.77\n",
        "\n",
        "def risk_assesment(val):\n",
        "    max_amp = np.max(val)\n",
        "    if max_amp > threshold:\n",
        "      print('Alert! Reduce the speed customer at high risk')\n",
        "    else:\n",
        "      pass #customer not at risk\n",
        "    print(max_amp)\n",
        "    \n"
      ],
      "metadata": {
        "id": "2Q6rtjssitgz"
      },
      "execution_count": null,
      "outputs": []
    },
    {
      "cell_type": "code",
      "source": [
        "audio = '/content/03-01-05-02-01-01-22.wav'\n",
        "if 'angry' in decoded_string:\n",
        "  data, sampling_rate = librosa.load(audio, duration=2, offset=0.5)\n",
        "  freq,fft_spectrum_abs = fft_new(data,sampling_rate)\n",
        "  risk_assesment(fft_spectrum_abs)\n",
        "  \n"
      ],
      "metadata": {
        "colab": {
          "base_uri": "https://localhost:8080/",
          "height": 296
        },
        "id": "n76YuDl3fp-S",
        "outputId": "b01e6334-e0d4-4e4b-d6d5-98ffba192191"
      },
      "execution_count": null,
      "outputs": [
        {
          "output_type": "display_data",
          "data": {
            "text/plain": [
              "<Figure size 432x288 with 1 Axes>"
            ],
            "image/png": "[encoded data removed]"
          },
          "metadata": {
            "needs_background": "light"
          }
        },
        {
          "output_type": "stream",
          "name": "stdout",
          "text": [
            "77.77292219286534\n"
          ]
        }
      ]
    }
  ]
}